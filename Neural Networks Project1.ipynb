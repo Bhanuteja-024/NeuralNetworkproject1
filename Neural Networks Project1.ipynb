{
 "cells": [
  {
   "cell_type": "code",
   "execution_count": 1,
   "id": "a59eb92b",
   "metadata": {},
   "outputs": [
    {
     "name": "stdout",
     "output_type": "stream",
     "text": [
      "Enter string : python\n",
      "Modified string :  notp\n"
     ]
    }
   ],
   "source": [
    "import random\n",
    "\n",
    "s1 = input(\"Enter string : \")\n",
    "if(len(s1)<2):\n",
    "    print(\"Input string should contain atleast 2 characters\")\n",
    "else:\n",
    "    for i in range(2):\n",
    "        a = random.randrange(len(s1))\n",
    "        s1 = s1[:a]+s1[a+1:]\n",
    "    s1 = s1[::-1]\n",
    "    print(\"Modified string : \",s1)"
   ]
  },
  {
   "cell_type": "code",
   "execution_count": 2,
   "id": "764edbfd",
   "metadata": {},
   "outputs": [
    {
     "name": "stdout",
     "output_type": "stream",
     "text": [
      "Enter Integer 1 : 45\n",
      "Enter Integer 2 : 3\n",
      "Sum :  48.0\n",
      "Difference :  42.0\n",
      "Multiplication :  135.0\n",
      "Division :  15.0\n"
     ]
    }
   ],
   "source": [
    "num1 = float(input(\"Enter Integer 1 : \"))\n",
    "num2 = float(input(\"Enter Integer 2 : \"))\n",
    "sum = num1+num2\n",
    "diff = num1-num2\n",
    "mul = num1*num2\n",
    "div = num1/num2\n",
    "print(\"Sum : \",num1+num2)\n",
    "print(\"Difference : \",num1-num2)\n",
    "print(\"Multiplication : \",num1*num2)\n",
    "print(\"Division : \",num1/num2)"
   ]
  },
  {
   "cell_type": "code",
   "execution_count": 3,
   "id": "ca2af5d2",
   "metadata": {
    "scrolled": true
   },
   "outputs": [
    {
     "name": "stdout",
     "output_type": "stream",
     "text": [
      "Enter Input String : I love playing with python\n",
      "Modified String :  I love playing with pythons\n"
     ]
    }
   ],
   "source": [
    "s1 = input(\"Enter Input String : \")\n",
    "s2 = s1.replace('python','pythons')\n",
    "print(\"Modified String : \",s2)"
   ]
  },
  {
   "cell_type": "code",
   "execution_count": 4,
   "id": "75ad715e",
   "metadata": {},
   "outputs": [
    {
     "name": "stdout",
     "output_type": "stream",
     "text": [
      "Enter score : 92\n",
      "A\n"
     ]
    }
   ],
   "source": [
    "score = int(input(\"Enter score : \"))\n",
    "if(score>=90):\n",
    "    print(\"A\")\n",
    "elif(score>=80):\n",
    "    print(\"B\")\n",
    "elif(score>=70):\n",
    "    print(\"C\")\n",
    "elif(score>=60):\n",
    "    print(\"D\")\n",
    "else:\n",
    "    print(\"F\")"
   ]
  }
 ],
 "metadata": {
  "kernelspec": {
   "display_name": "Python 3 (ipykernel)",
   "language": "python",
   "name": "python3"
  },
  "language_info": {
   "codemirror_mode": {
    "name": "ipython",
    "version": 3
   },
   "file_extension": ".py",
   "mimetype": "text/x-python",
   "name": "python",
   "nbconvert_exporter": "python",
   "pygments_lexer": "ipython3",
   "version": "3.11.4"
  }
 },
 "nbformat": 4,
 "nbformat_minor": 5
}
